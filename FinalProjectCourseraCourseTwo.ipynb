{
 "cells": [
  {
   "cell_type": "markdown",
   "id": "f0f7a1f5-1c96-4396-ae51-508948895f33",
   "metadata": {},
   "source": [
    "## Final Project Coursera Course Two"
   ]
  },
  {
   "cell_type": "markdown",
   "id": "5d43d659-aa9c-4d55-8c5e-61e76c62068f",
   "metadata": {},
   "source": [
    "# Introduction\n",
    "- "
   ]
  }
 ],
 "metadata": {
  "kernelspec": {
   "display_name": "Python 3 (ipykernel)",
   "language": "python",
   "name": "python3"
  },
  "language_info": {
   "codemirror_mode": {
    "name": "ipython",
    "version": 3
   },
   "file_extension": ".py",
   "mimetype": "text/x-python",
   "name": "python",
   "nbconvert_exporter": "python",
   "pygments_lexer": "ipython3",
   "version": "3.11.9"
  }
 },
 "nbformat": 4,
 "nbformat_minor": 5
}
