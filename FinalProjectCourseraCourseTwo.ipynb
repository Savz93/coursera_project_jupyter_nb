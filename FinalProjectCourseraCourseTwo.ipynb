{
 "cells": [
  {
   "cell_type": "markdown",
   "id": "f0f7a1f5-1c96-4396-ae51-508948895f33",
   "metadata": {},
   "source": [
    "# Data Science Tools and Ecosystem"
   ]
  },
  {
   "cell_type": "markdown",
   "id": "5d43d659-aa9c-4d55-8c5e-61e76c62068f",
   "metadata": {},
   "source": [
    "## In this notbebook, data science tools and ecosystem are summarized "
   ]
  },
  {
   "cell_type": "markdown",
   "id": "8b052d4b-2c24-4020-ad6d-c4b60e3e2166",
   "metadata": {},
   "source": [
    "## **Objectives:**\n",
    "- Some of the popular languages that Data Scientists\n",
    "- Some of the commonly used libraries used by Data Scientists\n",
    "- Creating a table using markdown"
   ]
  },
  {
   "cell_type": "markdown",
   "id": "edd2deb2-4a02-42bb-9500-8facc26354f3",
   "metadata": {},
   "source": [
    "## Some of the popular languages Data Scientist use are: \n",
    "\n",
    "1. Python\n",
    "2. R\n",
    "3. Scala"
   ]
  },
  {
   "cell_type": "markdown",
   "id": "2c273447-5c5f-4898-b977-5fa7ddc76e31",
   "metadata": {},
   "source": [
    "## Some of the commonly used libraries used by Data Scientists include:"
   ]
  },
  {
   "cell_type": "markdown",
   "id": "cdee23ea-039b-4a1c-847a-1882baea34b5",
   "metadata": {},
   "source": [
    "1. Pandas\n",
    "2. NumPy\n",
    "3. TensorFlow"
   ]
  },
  {
   "cell_type": "markdown",
   "id": "8dc29682-fce0-4561-bf80-1b01a8033a7b",
   "metadata": {},
   "source": [
    "|Data Science Tools|\n",
    "|:----------------:|\n",
    "|  Visual Studio   |\n",
    "|   IBM Studio     |\n",
    "| Jupyter Notebook |"
   ]
  },
  {
   "cell_type": "markdown",
   "id": "ca99c561-918d-4bb1-8a32-2182bff256c1",
   "metadata": {},
   "source": [
    "### Below are a few examples of evaluating arithmetic expressions in Python"
   ]
  },
  {
   "cell_type": "markdown",
   "id": "55ba522a-e54c-4a6c-96eb-31224744a925",
   "metadata": {},
   "source": [
    "### This a simple arithmetic expression to mutiply then add integers"
   ]
  },
  {
   "cell_type": "code",
   "execution_count": 4,
   "id": "8615013f-1f62-4995-80a3-8b61f62c5cd3",
   "metadata": {},
   "outputs": [
    {
     "data": {
      "text/plain": [
       "17"
      ]
     },
     "execution_count": 4,
     "metadata": {},
     "output_type": "execute_result"
    }
   ],
   "source": [
    "(3*4)+5"
   ]
  },
  {
   "cell_type": "markdown",
   "id": "30f989af-6639-4d02-a4ef-220c66389af3",
   "metadata": {},
   "source": [
    "### This will convert 200 minutes to hours by diving by 60"
   ]
  },
  {
   "cell_type": "code",
   "execution_count": 6,
   "id": "12612a5a-b120-4dda-8ed8-316ad34fc836",
   "metadata": {},
   "outputs": [
    {
     "data": {
      "text/plain": [
       "3.3333333333333335"
      ]
     },
     "execution_count": 6,
     "metadata": {},
     "output_type": "execute_result"
    }
   ],
   "source": [
    "minutes = 200\n",
    "hours = minutes/60\n",
    "hours"
   ]
  },
  {
   "cell_type": "markdown",
   "id": "4c15657a-8daf-49a6-8215-d3440d959f38",
   "metadata": {},
   "source": [
    "## Author\n",
    "Adam Savoia"
   ]
  },
  {
   "cell_type": "code",
   "execution_count": null,
   "id": "50069701-b1b9-4962-8b30-3f2c0cdf2343",
   "metadata": {},
   "outputs": [],
   "source": []
  }
 ],
 "metadata": {
  "kernelspec": {
   "display_name": "Python 3 (ipykernel)",
   "language": "python",
   "name": "python3"
  },
  "language_info": {
   "codemirror_mode": {
    "name": "ipython",
    "version": 3
   },
   "file_extension": ".py",
   "mimetype": "text/x-python",
   "name": "python",
   "nbconvert_exporter": "python",
   "pygments_lexer": "ipython3",
   "version": "3.11.9"
  }
 },
 "nbformat": 4,
 "nbformat_minor": 5
}
